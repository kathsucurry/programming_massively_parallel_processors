{
 "cells": [
  {
   "cell_type": "markdown",
   "id": "2781ae1f",
   "metadata": {},
   "source": [
    "# Notebook to generate test outputs"
   ]
  },
  {
   "cell_type": "code",
   "execution_count": 2,
   "id": "d72cd193",
   "metadata": {},
   "outputs": [],
   "source": [
    "import os\n",
    "\n",
    "import idx2numpy\n",
    "import matplotlib.pyplot as plt\n",
    "import numpy as np\n",
    "import torch\n",
    "import torch.nn.functional as F\n",
    "\n",
    "%matplotlib inline"
   ]
  },
  {
   "cell_type": "code",
   "execution_count": 3,
   "id": "23de89cf",
   "metadata": {},
   "outputs": [],
   "source": [
    "# Constants.\n",
    "LABEL_SIZE  = 10\n",
    "SAMPLE_SIZE = 3\n",
    "OUTPUT_PATH = \"outputs/\""
   ]
  },
  {
   "cell_type": "markdown",
   "id": "3b60881f",
   "metadata": {},
   "source": [
    "## Load images and labels"
   ]
  },
  {
   "cell_type": "code",
   "execution_count": 4,
   "id": "799ed69f",
   "metadata": {},
   "outputs": [],
   "source": [
    "# Update the paths if needed.\n",
    "file_image_path = \"../../../Dataset/mnist/train-images-idx3-ubyte\"\n",
    "file_label_path = \"../../../Dataset/mnist/train-labels-idx1-ubyte\""
   ]
  },
  {
   "cell_type": "code",
   "execution_count": 5,
   "id": "7a2abe32",
   "metadata": {},
   "outputs": [
    {
     "data": {
      "text/plain": [
       "(60000, 28, 28)"
      ]
     },
     "execution_count": 5,
     "metadata": {},
     "output_type": "execute_result"
    }
   ],
   "source": [
    "all_images = idx2numpy.convert_from_file(file_image_path)\n",
    "all_images.shape"
   ]
  },
  {
   "cell_type": "code",
   "execution_count": 6,
   "id": "ab52fbd3",
   "metadata": {},
   "outputs": [
    {
     "data": {
      "text/plain": [
       "<matplotlib.image.AxesImage at 0x740cfa148920>"
      ]
     },
     "execution_count": 6,
     "metadata": {},
     "output_type": "execute_result"
    },
    {
     "data": {
      "image/png": "[encoded data removed]",
      "text/plain": [
       "<Figure size 640x480 with 1 Axes>"
      ]
     },
     "metadata": {},
     "output_type": "display_data"
    }
   ],
   "source": [
    "# Visualize an example.\n",
    "plt.imshow(all_images[1])"
   ]
  },
  {
   "cell_type": "code",
   "execution_count": 7,
   "id": "392c364d",
   "metadata": {},
   "outputs": [
    {
     "data": {
      "text/plain": [
       "(60000,)"
      ]
     },
     "execution_count": 7,
     "metadata": {},
     "output_type": "execute_result"
    }
   ],
   "source": [
    "all_labels = idx2numpy.convert_from_file(file_label_path)\n",
    "all_labels.shape"
   ]
  },
  {
   "cell_type": "code",
   "execution_count": 8,
   "id": "3f8f495f",
   "metadata": {},
   "outputs": [
    {
     "data": {
      "text/plain": [
       "np.uint8(0)"
      ]
     },
     "execution_count": 8,
     "metadata": {},
     "output_type": "execute_result"
    }
   ],
   "source": [
    "all_labels[1]"
   ]
  },
  {
   "cell_type": "markdown",
   "id": "9d3ab700",
   "metadata": {},
   "source": [
    "In `run_tests.cu`, the batch happens to have the first (ordered) 3 samples."
   ]
  },
  {
   "cell_type": "code",
   "execution_count": 9,
   "id": "936ed669",
   "metadata": {},
   "outputs": [
    {
     "data": {
      "text/plain": [
       "((3, 28, 28), (3,))"
      ]
     },
     "execution_count": 9,
     "metadata": {},
     "output_type": "execute_result"
    }
   ],
   "source": [
    "images = all_images[:SAMPLE_SIZE]\n",
    "labels = all_labels[:SAMPLE_SIZE]\n",
    "images.shape, labels.shape"
   ]
  },
  {
   "cell_type": "code",
   "execution_count": 10,
   "id": "2252a50b",
   "metadata": {},
   "outputs": [
    {
     "data": {
      "text/plain": [
       "array([[0., 0., 0., 0., 0., 1., 0., 0., 0., 0.],\n",
       "       [1., 0., 0., 0., 0., 0., 0., 0., 0., 0.],\n",
       "       [0., 0., 0., 0., 1., 0., 0., 0., 0., 0.]])"
      ]
     },
     "execution_count": 10,
     "metadata": {},
     "output_type": "execute_result"
    }
   ],
   "source": [
    "# Convert the labels into one-hot encodings.\n",
    "one_hot_labels = np.zeros((SAMPLE_SIZE, LABEL_SIZE))\n",
    "for i in range(SAMPLE_SIZE):\n",
    "    one_hot_labels[i, labels[i]] = 1\n",
    "one_hot_labels"
   ]
  },
  {
   "cell_type": "markdown",
   "id": "317dfbf4",
   "metadata": {},
   "source": [
    "## Preprocessing images\n",
    "\n",
    "In the test, we run two preprocessing steps on the images:\n",
    "\n",
    "1) Normalize to 0..1\n",
    "2) Add 2px padding"
   ]
  },
  {
   "cell_type": "code",
   "execution_count": 11,
   "id": "a76cb7f5",
   "metadata": {},
   "outputs": [
    {
     "data": {
      "text/plain": [
       "torch.Size([3, 1, 32, 32])"
      ]
     },
     "execution_count": 11,
     "metadata": {},
     "output_type": "execute_result"
    }
   ],
   "source": [
    "# Normalize images and convert to tensor.\n",
    "train_X = torch.tensor(images / 255, requires_grad=True)\n",
    "# Add padding and the input channel dimension.\n",
    "train_X = torch.nn.ZeroPad2d(2)(train_X).unsqueeze(1).to(torch.float32)\n",
    "train_X.shape"
   ]
  },
  {
   "cell_type": "code",
   "execution_count": 12,
   "id": "ed14d82b",
   "metadata": {},
   "outputs": [
    {
     "data": {
      "text/plain": [
       "torch.Size([3, 10])"
      ]
     },
     "execution_count": 12,
     "metadata": {},
     "output_type": "execute_result"
    }
   ],
   "source": [
    "train_y = torch.tensor(one_hot_labels)\n",
    "train_y.shape"
   ]
  },
  {
   "cell_type": "markdown",
   "id": "10c1329c",
   "metadata": {},
   "source": [
    "## Load weights"
   ]
  },
  {
   "cell_type": "code",
   "execution_count": 13,
   "id": "f1a44405",
   "metadata": {},
   "outputs": [],
   "source": [
    "linear_weights_file_path = \"inputs/weights_linear.txt\"\n",
    "conv2d_weights_file_path = \"inputs/weights_conv2d.txt\""
   ]
  },
  {
   "cell_type": "code",
   "execution_count": 14,
   "id": "4c66f457",
   "metadata": {},
   "outputs": [],
   "source": [
    "def read_tensor_from_file(file_path: str) -> np.ndarray:\n",
    "    file = open(file_path, \"r\")\n",
    "    str_content = file.read()\n",
    "    return torch.tensor([float(value) for value in str_content.split(\",\")])"
   ]
  },
  {
   "cell_type": "code",
   "execution_count": 15,
   "id": "f3d4992e",
   "metadata": {},
   "outputs": [],
   "source": [
    "linear_weights = read_tensor_from_file(linear_weights_file_path).reshape((LABEL_SIZE, 784))\n",
    "conv2d_weights = read_tensor_from_file(conv2d_weights_file_path).reshape((4, 1, 5, 5))"
   ]
  },
  {
   "cell_type": "markdown",
   "id": "54935e45",
   "metadata": {},
   "source": [
    "## Run model for 1 iteration\n",
    "\n",
    "The forward pass consists of the following layers:\n",
    "\n",
    "- Convolution layer: 4 filters, each 5 x 5 --> output dim = 4 x 28 x 28\n",
    "- Sigmoid layer\n",
    "- Pooling layer: kernel size 2 x 2 --> output dim = 14 x 14\n",
    "- Flatten layer --> output dim = 784 (4 filters x 14 x 14)\n",
    "- Linear layer (784 x 10)\n",
    "- Softmax layer\n",
    "\n",
    "To compute loss, we use cross entropy loss on the *output of the linear layer*. Recall that cross entropy = log softmax + NLLLoss.\n",
    "\n",
    "There are four sets of outputs we need for testing the C/CUDA code:\n",
    "\n",
    "1) The output of each layer\n",
    "2) The result of running loss\n",
    "3) The gradients of each layer after running `.backward()`\n",
    "4) The updated weights"
   ]
  },
  {
   "cell_type": "markdown",
   "id": "74ea8bf2",
   "metadata": {},
   "source": [
    "Since the weights have been generated, we create custom classes for Conv2D and Linear layers to replace the weights."
   ]
  },
  {
   "cell_type": "code",
   "execution_count": 16,
   "id": "8e08710b",
   "metadata": {},
   "outputs": [],
   "source": [
    "class CustomWeightConv2D(torch.nn.Conv2d):\n",
    "    def __init__(self, custom_weights):\n",
    "        super(CustomWeightConv2D, self).__init__(custom_weights.shape[0], custom_weights.shape[1], custom_weights.shape[2], bias=False)\n",
    "        self.weight = torch.nn.Parameter(custom_weights)"
   ]
  },
  {
   "cell_type": "code",
   "execution_count": 17,
   "id": "730506ce",
   "metadata": {},
   "outputs": [],
   "source": [
    "class CustomWeightLinear(torch.nn.Linear):\n",
    "    def __init__(self, custom_weights):\n",
    "         super(CustomWeightLinear, self).__init__(*custom_weights.shape, bias=False)\n",
    "         self.weight = torch.nn.Parameter(custom_weights)"
   ]
  },
  {
   "cell_type": "markdown",
   "id": "6f4ab07b",
   "metadata": {},
   "source": [
    "### Get output of each layer"
   ]
  },
  {
   "cell_type": "code",
   "execution_count": 18,
   "id": "b7010a09",
   "metadata": {},
   "outputs": [],
   "source": [
    "layers = [\n",
    "    CustomWeightConv2D(conv2d_weights),\n",
    "    torch.nn.Sigmoid(),\n",
    "    torch.nn.MaxPool2d(2),\n",
    "    torch.nn.Flatten(),\n",
    "    CustomWeightLinear(linear_weights),\n",
    "    torch.nn.Softmax(dim=1),\n",
    "]\n",
    "layers_label = [\n",
    "    \"layer0_conv2d\",\n",
    "    \"layer1_sigmoid\",\n",
    "    \"layer2_maxpool\",\n",
    "    \"layer3_flatten\",\n",
    "    \"layer4_linear\",\n",
    "    \"layer5_softmax\",\n",
    "]"
   ]
  },
  {
   "cell_type": "code",
   "execution_count": 19,
   "id": "73ac0146",
   "metadata": {},
   "outputs": [],
   "source": [
    "layers_output = []\n",
    "for layer_i, layer in enumerate(layers):\n",
    "    if layer_i == 0:\n",
    "        layers_output.append(layer(train_X))\n",
    "    else:\n",
    "        layers_output.append(layer(layers_output[layer_i - 1]))\n",
    "    layers_output[layer_i].retain_grad()"
   ]
  },
  {
   "cell_type": "markdown",
   "id": "fefd9f6b",
   "metadata": {},
   "source": [
    "### Get loss value"
   ]
  },
  {
   "cell_type": "code",
   "execution_count": 20,
   "id": "84e58fac",
   "metadata": {},
   "outputs": [
    {
     "data": {
      "text/plain": [
       "tensor(1.9225, dtype=torch.float64, grad_fn=<DivBackward1>)"
      ]
     },
     "execution_count": 20,
     "metadata": {},
     "output_type": "execute_result"
    }
   ],
   "source": [
    "loss = torch.nn.CrossEntropyLoss()\n",
    "loss_output = loss(layers_output[4], train_y)\n",
    "loss_output"
   ]
  },
  {
   "cell_type": "code",
   "execution_count": 21,
   "id": "15328c82",
   "metadata": {},
   "outputs": [],
   "source": [
    "np.savetxt(os.path.join(OUTPUT_PATH, f\"output_loss.txt\"), loss_output.detach().numpy().flatten())"
   ]
  },
  {
   "cell_type": "code",
   "execution_count": 22,
   "id": "c9058a97",
   "metadata": {},
   "outputs": [],
   "source": [
    "loss_output.backward()"
   ]
  },
  {
   "cell_type": "code",
   "execution_count": 23,
   "id": "3ef4d83c",
   "metadata": {},
   "outputs": [],
   "source": [
    "for layer_label, layer_output in zip(layers_label, layers_output):\n",
    "    np.savetxt(os.path.join(OUTPUT_PATH, f\"output_{layer_label}.txt\"), layer_output.detach().numpy().flatten())"
   ]
  },
  {
   "cell_type": "markdown",
   "id": "3a0f25c5",
   "metadata": {},
   "source": [
    "### Get gradients of each layer output/weight"
   ]
  },
  {
   "cell_type": "code",
   "execution_count": 25,
   "id": "3a1a5e65",
   "metadata": {},
   "outputs": [
    {
     "name": "stdout",
     "output_type": "stream",
     "text": [
      "layer0_conv2d\tgrad dim:  torch.Size([3, 4, 28, 28])\n",
      "layer1_sigmoid\tgrad dim:  torch.Size([3, 4, 28, 28])\n",
      "layer2_maxpool\tgrad dim:  torch.Size([3, 4, 14, 14])\n",
      "layer3_flatten\tgrad dim:  torch.Size([3, 784])\n",
      "layer4_linear\tgrad dim:  torch.Size([3, 10])\n"
     ]
    }
   ],
   "source": [
    "for layer_label, layer_output in zip(layers_label[:-1], layers_output[:-1]):\n",
    "    print(f\"{layer_label}\\tgrad dim: \", layer_output.grad.shape)\n",
    "    np.savetxt(os.path.join(OUTPUT_PATH, f\"dy_{layer_label}.txt\"), layer_output.grad.detach().numpy().flatten())"
   ]
  },
  {
   "cell_type": "code",
   "execution_count": 26,
   "id": "cf919d87",
   "metadata": {},
   "outputs": [
    {
     "name": "stdout",
     "output_type": "stream",
     "text": [
      "torch.Size([4, 1, 5, 5])\n"
     ]
    }
   ],
   "source": [
    "# Store conv2d weight grad.\n",
    "print(layers[0].weight.grad.shape)\n",
    "np.savetxt(os.path.join(OUTPUT_PATH, f\"weight_grad_layer0_conv2d.txt\"), layers[0].weight.grad.detach().numpy().flatten())"
   ]
  },
  {
   "cell_type": "code",
   "execution_count": 27,
   "id": "96578629",
   "metadata": {},
   "outputs": [
    {
     "name": "stdout",
     "output_type": "stream",
     "text": [
      "torch.Size([10, 784])\n"
     ]
    }
   ],
   "source": [
    "# Store linear weight grad.\n",
    "print(layers[4].weight.grad.shape)\n",
    "np.savetxt(os.path.join(OUTPUT_PATH, f\"weight_grad_layer4_linear.txt\"), layers[4].weight.grad.detach().numpy().flatten())"
   ]
  },
  {
   "cell_type": "code",
   "execution_count": null,
   "id": "c4276218",
   "metadata": {},
   "outputs": [],
   "source": []
  }
 ],
 "metadata": {
  "kernelspec": {
   "display_name": ".venv",
   "language": "python",
   "name": "python3"
  },
  "language_info": {
   "codemirror_mode": {
    "name": "ipython",
    "version": 3
   },
   "file_extension": ".py",
   "mimetype": "text/x-python",
   "name": "python",
   "nbconvert_exporter": "python",
   "pygments_lexer": "ipython3",
   "version": "3.12.3"
  }
 },
 "nbformat": 4,
 "nbformat_minor": 5
}
